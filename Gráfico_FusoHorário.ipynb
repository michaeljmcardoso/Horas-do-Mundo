{
  "nbformat": 4,
  "nbformat_minor": 0,
  "metadata": {
    "colab": {
      "provenance": [],
      "authorship_tag": "ABX9TyPPK8BU1fTlKkqn6z7Cy7bh",
      "include_colab_link": true
    },
    "kernelspec": {
      "name": "python3",
      "display_name": "Python 3"
    },
    "language_info": {
      "name": "python"
    }
  },
  "cells": [
    {
      "cell_type": "markdown",
      "metadata": {
        "id": "view-in-github",
        "colab_type": "text"
      },
      "source": [
        "<a href=\"https://colab.research.google.com/github/michaeljmcardoso/Horas-do-Mundo/blob/main/Gr%C3%A1fico_FusoHor%C3%A1rio.ipynb\" target=\"_parent\"><img src=\"https://colab.research.google.com/assets/colab-badge.svg\" alt=\"Open In Colab\"/></a>"
      ]
    },
    {
      "cell_type": "markdown",
      "source": [
        "### Instalando os módulos necessários\n",
        "\n",
        "Instale as bibliotecas matplotlib e pytz caso não as tenha instalado em seu ambiente Python. Para tanto, você pode usar o seguinte comando para instalá-las: \n",
        "\n",
        "pip install matplotlib pytz -q\n",
        "\n",
        "Adicione um -q para uma saída mais limpa terminal ou prompt"
      ],
      "metadata": {
        "id": "nGrusCyN6kyq"
      }
    },
    {
      "cell_type": "code",
      "execution_count": 1,
      "metadata": {
        "id": "RtLfpm_G8LnA"
      },
      "outputs": [],
      "source": [
        "!pip install matplotlib pytz -q"
      ]
    },
    {
      "cell_type": "markdown",
      "source": [
        "### Importando as bibliotecas \n",
        "Vamos utilizar a biblioteca matplotlib e seaborn para criar o gráfico e a biblioteca pytz para lidar com os fusos horários."
      ],
      "metadata": {
        "id": "p7niXZmnFP6H"
      }
    },
    {
      "cell_type": "code",
      "source": [
        "import matplotlib.pyplot as plt\n",
        "import seaborn as sns\n",
        "from datetime import datetime\n",
        "import pytz"
      ],
      "metadata": {
        "id": "doZa2h29ddC3"
      },
      "execution_count": 26,
      "outputs": []
    },
    {
      "cell_type": "markdown",
      "source": [
        "Nesse exemplo que abordaremos, definimos uma lista de fusos_horarios com os fusos horários desejados, informando na lista o nome do continente seguido de uma barra ( / ) e o nome da cidade. Se houver espaço entre o nome da cidade, como no caso de São Paulo, devemos incluir um underline ( _ ) entre o nome, ficando assim: America/Sao_Paulo, tudo sem acentos."
      ],
      "metadata": {
        "id": "30mOaTefFiJR"
      }
    },
    {
      "cell_type": "code",
      "source": [
        "# Lista com os fusos horários desejados\n",
        "fusos_horarios = ['America/Sao_Paulo', 'America/New_York',\n",
        "                  'Europe/London', 'America/Lima', 'Europe/Rome',\n",
        "                  'Australia/Sydney', 'Europe/Paris', 'Asia/Tokyo'\n",
        "                  ]\n"
      ],
      "metadata": {
        "id": "eu1MYTkpdzSg"
      },
      "execution_count": 27,
      "outputs": []
    },
    {
      "cell_type": "markdown",
      "source": [
        "Em seguida, utilizamos um loop for para obter a hora atual em cada fuso horário e armazenamos em uma lista chamada horas. "
      ],
      "metadata": {
        "id": "X133IxFrFkld"
      }
    },
    {
      "cell_type": "code",
      "source": [
        "# Obtém a hora atual para cada fuso horário\n",
        "horas = []\n",
        "for fuso_horario in fusos_horarios:\n",
        "    # Cria um objeto de fuso horário com base na string do fuso horário\n",
        "    tz = pytz.timezone(fuso_horario)\n",
        "    # Obtém a hora atual no fuso horário especificado\n",
        "    hora_atual = datetime.now(tz).time()\n",
        "    # Adiciona a hora atual à lista de horas\n",
        "    horas.append(hora_atual)\n",
        "    "
      ],
      "metadata": {
        "id": "5npcZos5d1wV"
      },
      "execution_count": 60,
      "outputs": []
    },
    {
      "cell_type": "markdown",
      "source": [
        "Também criamos uma lista denominada nomes_fusos com os nomes dos fusos horários para exibir no eixo x de nosso gráfico."
      ],
      "metadata": {
        "id": "I3uHMr2FxXWA"
      }
    },
    {
      "cell_type": "code",
      "source": [
        "# Cria uma lista com os nomes dos fusos horários\n",
        "nomes_fusos = [tz.split('/')[1].replace('_', ' ') for tz in fusos_horarios]\n",
        "\n",
        "# A linha acima faz o seguinte:\n",
        "# - Para cada string de fuso horário em fusos_horarios, realizamos as seguintes etapas:\n",
        "# - Usamos o método split('/') para dividir a string do fuso horário em duas partes, por exemplo, 'America/Sao_Paulo' se torna ['America', 'Sao_Paulo']\n",
        "# - Selecionamos a segunda parte, que é o nome do fuso horário, usando [1]\n",
        "# - Usamos o método replace('_', ' ') para substituir os underscores (_) por espaços em branco, por exemplo, 'Sao_Paulo' se torna 'Sao Paulo'\n",
        "# - O resultado final é adicionado à lista nomes_fusos\n"
      ],
      "metadata": {
        "id": "Abh-CbQdd395"
      },
      "execution_count": 61,
      "outputs": []
    },
    {
      "cell_type": "markdown",
      "source": [
        "Depois, utilizamos a função plt.subplots() do matplotlib para criar um gráfico de barras, utilizando os nomes dos fusos horários como rótulos no eixo x e as horas correspondentes como valores no eixo y.\n",
        "\n",
        "Por fim, configuramos o título e os rótulos dos eixos do gráfico e exibimos o gráfico com a função plt.show()."
      ],
      "metadata": {
        "id": "vFSgKrSs6jdQ"
      }
    },
    {
      "cell_type": "code",
      "source": [
        "# Plota o gráfico\n",
        "fig, ax = plt.subplots(figsize=(10, 6))\n",
        "sns.barplot(x=[hora.hour for hora in horas], y=nomes_fusos)\n",
        "\n",
        "# Configurações do gráfico\n",
        "ax.set(title='Horas do Mundo')  # Título do gráfico\n",
        "# ax.set(ylabel='Fuso Horário')  # Nomeia eixo y\n",
        "\n",
        "# Removendo as linhas ao redor do gráfico\n",
        "sns.set_style(\"whitegrid\")  # Define o estilo para \"whitegrid\" (com grade branca)\n",
        "\n",
        "# Remove as bordas e eixos extras\n",
        "sns.despine(right=True, top=True, bottom=True, left=True)\n",
        "plt.gca().axes.get_xaxis().set_visible(False)\n",
        "\n",
        "# Remove xticks do eixo x\n",
        "plt.tick_params(bottom=False, labelbottom=False)\n",
        "\n",
        "# Adiciona os valores das horas ao lado das barras\n",
        "for i, hora in enumerate(horas):\n",
        "    ax.text(hora.hour + 0.5, i, hora.strftime('%H:%M'),\n",
        "            ha='left', va='center', weight='bold')  # posição do texto das horas no formato de 24h, em negrito\n",
        "\n",
        "# Exibe o gráfico\n",
        "plt.show()\n"
      ],
      "metadata": {
        "colab": {
          "base_uri": "https://localhost:8080/",
          "height": 521
        },
        "id": "GISjltsId6dv",
        "outputId": "2092ddf7-ebae-4687-f85a-6025ef88de4c"
      },
      "execution_count": 63,
      "outputs": [
        {
          "output_type": "display_data",
          "data": {
            "text/plain": [
              "<Figure size 1000x600 with 1 Axes>"
            ],
            "image/png": "[encoded data removed]"
          },
          "metadata": {}
        }
      ]
    },
    {
      "cell_type": "markdown",
      "source": [
        "<p> Dentro do loop for, primeiro criamos um objeto de fuso horário usando a string do fuso horário atual em fuso_horario. A biblioteca pytz nos permite criar objetos de fuso horário com base em seus identificadores, como \"America/Sao_Paulo\" ou \"Europe/London\".</p>\n",
        "\n",
        "<p> Em seguida, usamos datetime.now(tz).time() para obter a hora atual no fuso horário especificado. A função datetime.now(tz) retorna um objeto datetime com a data e a hora atuais no fuso horário tz, e em seguida, usamos o método .time() para extrair apenas a parte da hora.</p>\n",
        "\n",
        "<p> A hora atual é armazenada na variável hora_atual e, em seguida, adicionada à lista horas com o método .append().</p>\n",
        "\n",
        "<p> Ao final do loop for, teremos uma lista horas que contém a hora atual para cada fuso horário especificado em fusos_horarios.</p>\n",
        "\n",
        "<p> A linha nomes_fusos = [tz.split('/')[1].replace('_', ' ') for tz in fusos_horarios] realiza algumas operações para criar a lista nomes_fusos:\n",
        "Utilizamos uma list comprehension para iterar sobre cada string de fuso horário em fusos_horarios.</p>\n",
        "\n",
        "<p> Para cada fuso horário, utilizamos o método split('/') para dividir a string em duas partes, utilizando a barra como separador. Por exemplo, 'America/Sao_Paulo' se torna ['America', 'Sao_Paulo'].</p>\n",
        "\n",
        "<p> Selecionamos a segunda parte da lista resultante, que é o nome do fuso horário. Utilizamos [1] para obter essa parte.</p>\n",
        "\n",
        "<p> Usamos o método replace('_', ' ') para substituir os underscores (_) por espaços em branco no nome do fuso horário. Por exemplo, 'Sao_Paulo' se torna 'Sao Paulo'.</p>\n",
        "\n",
        "<p> O resultado final de cada iteração é adicionado à lista nomes_fusos.</p>\n",
        "\n",
        "<p> Dessa forma, a lista nomes_fusos conterá os nomes dos fusos horários formatados de maneira legível para exibição no eixo x do gráfico.</p>"
      ],
      "metadata": {
        "id": "tLqYJk8qea2p"
      }
    }
  ]
}